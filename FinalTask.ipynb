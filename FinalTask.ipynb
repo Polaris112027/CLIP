{
 "cells": [
  {
   "cell_type": "code",
   "execution_count": null,
   "id": "31f76789",
   "metadata": {
    "scrolled": false
   },
   "outputs": [
    {
     "name": "stdout",
     "output_type": "stream",
     "text": [
      "Images: 24996\n",
      "Help\n",
      "I need to transform\n",
      "/input\n",
      "100\n",
      "Query:\n"
     ]
    },
    {
     "data": {
      "text/plain": [
       "'/input'"
      ]
     },
     "metadata": {},
     "output_type": "display_data"
    },
    {
     "name": "stdout",
     "output_type": "stream",
     "text": [
      "Y_IkSzXHZ0s.jpg\n",
      "55TVKtxMzBw.jpg\n",
      "Ix7Zwjk5fWg.jpg\n",
      "['photos/Y_IkSzXHZ0s.jpg', 'photos/55TVKtxMzBw.jpg', 'photos/Ix7Zwjk5fWg.jpg']\n",
      "cat\n",
      "100\n",
      "Query:\n"
     ]
    },
    {
     "data": {
      "text/plain": [
       "'cat'"
      ]
     },
     "metadata": {},
     "output_type": "display_data"
    },
    {
     "name": "stdout",
     "output_type": "stream",
     "text": [
      "m-InFQ9clVU.jpg\n",
      "-JrQwyTEIt0.jpg\n",
      "gQFZxLe3m4g.jpg\n",
      "['photos/m-InFQ9clVU.jpg', 'photos/-JrQwyTEIt0.jpg', 'photos/gQFZxLe3m4g.jpg']\n",
      "piggy\n",
      "100\n",
      "Query:\n"
     ]
    },
    {
     "data": {
      "text/plain": [
       "'piggy'"
      ]
     },
     "metadata": {},
     "output_type": "display_data"
    },
    {
     "name": "stdout",
     "output_type": "stream",
     "text": [
      "4aOsyak3BW4.jpg\n",
      "ZKbve9f7Mp4.jpg\n",
      "MJN82hKaRb0.jpg\n",
      "['photos/4aOsyak3BW4.jpg', 'photos/ZKbve9f7Mp4.jpg', 'photos/MJN82hKaRb0.jpg']\n",
      "puppy\n",
      "100\n",
      "Query:\n"
     ]
    },
    {
     "data": {
      "text/plain": [
       "'puppy'"
      ]
     },
     "metadata": {},
     "output_type": "display_data"
    },
    {
     "name": "stdout",
     "output_type": "stream",
     "text": [
      "XeOO8ir_YHs.jpg\n",
      "yCKKd37OsgI.jpg\n",
      "Q2r1ED_O_zU.jpg\n",
      "['photos/XeOO8ir_YHs.jpg', 'photos/yCKKd37OsgI.jpg', 'photos/Q2r1ED_O_zU.jpg']\n",
      "\n",
      "file_request <Response [200]>\n"
     ]
    },
    {
     "name": "stderr",
     "output_type": "stream",
     "text": [
      "ftfy or spacy is not installed using BERT BasicTokenizer instead of ftfy.\n"
     ]
    },
    {
     "name": "stdout",
     "output_type": "stream",
     "text": [
      "tensor([103])\n",
      "新兴\n",
      "\n",
      "file_request <Response [200]>\n"
     ]
    },
    {
     "name": "stderr",
     "output_type": "stream",
     "text": [
      "ftfy or spacy is not installed using BERT BasicTokenizer instead of ftfy.\n"
     ]
    },
    {
     "name": "stdout",
     "output_type": "stream",
     "text": [
      "tensor([62])\n",
      "导盲犬\n",
      "\n",
      "file_request <Response [200]>\n"
     ]
    },
    {
     "name": "stderr",
     "output_type": "stream",
     "text": [
      "ftfy or spacy is not installed using BERT BasicTokenizer instead of ftfy.\n"
     ]
    },
    {
     "name": "stdout",
     "output_type": "stream",
     "text": [
      "tensor([103])\n",
      "新兴\n",
      "\n",
      "file_request <Response [200]>\n"
     ]
    },
    {
     "name": "stderr",
     "output_type": "stream",
     "text": [
      "ftfy or spacy is not installed using BERT BasicTokenizer instead of ftfy.\n"
     ]
    },
    {
     "name": "stdout",
     "output_type": "stream",
     "text": [
      "tensor([28])\n",
      "信鸽\n",
      "\n",
      "file_request <Response [200]>\n"
     ]
    },
    {
     "name": "stderr",
     "output_type": "stream",
     "text": [
      "ftfy or spacy is not installed using BERT BasicTokenizer instead of ftfy.\n"
     ]
    },
    {
     "name": "stdout",
     "output_type": "stream",
     "text": [
      "tensor([47])\n",
      "猿人\n",
      "玉桂狗\n",
      "100\n",
      "Query:\n"
     ]
    },
    {
     "data": {
      "text/plain": [
       "'玉桂狗'"
      ]
     },
     "metadata": {},
     "output_type": "display_data"
    },
    {
     "name": "stdout",
     "output_type": "stream",
     "text": [
      "YAzmlr2kjSY.jpg\n",
      "uvd8VjR7qoU.jpg\n",
      "YxCyGRM0xYU.jpg\n",
      "['photos/YAzmlr2kjSY.jpg', 'photos/uvd8VjR7qoU.jpg', 'photos/YxCyGRM0xYU.jpg']\n",
      "Help\n",
      "\n",
      "file_request <Response [200]>\n"
     ]
    },
    {
     "name": "stderr",
     "output_type": "stream",
     "text": [
      "ftfy or spacy is not installed using BERT BasicTokenizer instead of ftfy.\n"
     ]
    },
    {
     "name": "stdout",
     "output_type": "stream",
     "text": [
      "tensor([103])\n",
      "新兴\n",
      "Jennie\n",
      "100\n",
      "Query:\n"
     ]
    },
    {
     "data": {
      "text/plain": [
       "'Jennie'"
      ]
     },
     "metadata": {},
     "output_type": "display_data"
    },
    {
     "name": "stdout",
     "output_type": "stream",
     "text": [
      "-JrQwyTEIt0.jpg\n",
      "eMT_TIrG90k.jpg\n",
      "fhBG1WkevcY.jpg\n",
      "['photos/-JrQwyTEIt0.jpg', 'photos/eMT_TIrG90k.jpg', 'photos/fhBG1WkevcY.jpg']\n",
      "I need to transform\n",
      "Cinnamoroll\n",
      "100\n",
      "Query:\n"
     ]
    },
    {
     "data": {
      "text/plain": [
       "'Cinnamoroll'"
      ]
     },
     "metadata": {},
     "output_type": "display_data"
    },
    {
     "name": "stdout",
     "output_type": "stream",
     "text": [
      "TCYB77pvYa0.jpg\n",
      "SrwdJyivv8Y.jpg\n",
      "lrcgiVAM7cU.jpg\n",
      "['photos/TCYB77pvYa0.jpg', 'photos/SrwdJyivv8Y.jpg', 'photos/lrcgiVAM7cU.jpg']\n",
      "/input text\n",
      "Lisa\n",
      "100\n",
      "Query:\n"
     ]
    },
    {
     "data": {
      "text/plain": [
       "'Lisa'"
      ]
     },
     "metadata": {},
     "output_type": "display_data"
    },
    {
     "name": "stdout",
     "output_type": "stream",
     "text": [
      "eMT_TIrG90k.jpg\n",
      "-JrQwyTEIt0.jpg\n",
      "A40lD_mDgVo.jpg\n",
      "['photos/eMT_TIrG90k.jpg', 'photos/-JrQwyTEIt0.jpg', 'photos/A40lD_mDgVo.jpg']\n",
      "猫\n",
      "100\n",
      "Query:\n"
     ]
    },
    {
     "data": {
      "text/plain": [
       "'猫'"
      ]
     },
     "metadata": {},
     "output_type": "display_data"
    },
    {
     "name": "stdout",
     "output_type": "stream",
     "text": [
      "m-InFQ9clVU.jpg\n",
      "-JrQwyTEIt0.jpg\n",
      "F7hurtVH1TY.jpg\n",
      "['photos/m-InFQ9clVU.jpg', 'photos/-JrQwyTEIt0.jpg', 'photos/F7hurtVH1TY.jpg']\n",
      "china\n",
      "100\n",
      "Query:\n"
     ]
    },
    {
     "data": {
      "text/plain": [
       "'china'"
      ]
     },
     "metadata": {},
     "output_type": "display_data"
    },
    {
     "name": "stdout",
     "output_type": "stream",
     "text": [
      "iRNGsOeKUU0.jpg\n",
      "SoPJ087f_PI.jpg\n",
      "OElxWB3VkKo.jpg\n",
      "['photos/iRNGsOeKUU0.jpg', 'photos/SoPJ087f_PI.jpg', 'photos/OElxWB3VkKo.jpg']\n",
      "stitch\n",
      "100\n",
      "Query:\n"
     ]
    },
    {
     "data": {
      "text/plain": [
       "'stitch'"
      ]
     },
     "metadata": {},
     "output_type": "display_data"
    },
    {
     "name": "stdout",
     "output_type": "stream",
     "text": [
      "6kNVJ1fr3Ug.jpg\n",
      "GsuwC2PMcEA.jpg\n",
      "TCYB77pvYa0.jpg\n",
      "['photos/6kNVJ1fr3Ug.jpg', 'photos/GsuwC2PMcEA.jpg', 'photos/TCYB77pvYa0.jpg']\n",
      "Blackpink\n",
      "100\n",
      "Query:\n"
     ]
    },
    {
     "data": {
      "text/plain": [
       "'Blackpink'"
      ]
     },
     "metadata": {},
     "output_type": "display_data"
    },
    {
     "name": "stdout",
     "output_type": "stream",
     "text": [
      "6TzQTCwMngU.jpg\n",
      "bq-o5KOMLXU.jpg\n",
      "k7oU5bHFDFE.jpg\n",
      "['photos/6TzQTCwMngU.jpg', 'photos/bq-o5KOMLXU.jpg', 'photos/k7oU5bHFDFE.jpg']\n",
      "pink\n",
      "100\n",
      "Query:\n"
     ]
    },
    {
     "data": {
      "text/plain": [
       "'pink'"
      ]
     },
     "metadata": {},
     "output_type": "display_data"
    },
    {
     "name": "stdout",
     "output_type": "stream",
     "text": [
      "a4DetUeg_-Y.jpg\n",
      "dG9fUG0Jpos.jpg\n",
      "QLTYmYuRSh0.jpg\n",
      "['photos/a4DetUeg_-Y.jpg', 'photos/dG9fUG0Jpos.jpg', 'photos/QLTYmYuRSh0.jpg']\n",
      "\n",
      "file_request <Response [200]>\n"
     ]
    },
    {
     "name": "stderr",
     "output_type": "stream",
     "text": [
      "ftfy or spacy is not installed using BERT BasicTokenizer instead of ftfy.\n"
     ]
    },
    {
     "name": "stdout",
     "output_type": "stream",
     "text": [
      "apple\n",
      "100\n",
      "Query:\n"
     ]
    },
    {
     "data": {
      "text/plain": [
       "'apple'"
      ]
     },
     "metadata": {},
     "output_type": "display_data"
    },
    {
     "name": "stdout",
     "output_type": "stream",
     "text": [
      "kjEBjje4-dE.jpg\n",
      "dTk4P3F3o_M.jpg\n",
      "FZU6emgWeaQ.jpg\n",
      "['photos/kjEBjje4-dE.jpg', 'photos/dTk4P3F3o_M.jpg', 'photos/FZU6emgWeaQ.jpg']\n",
      "tensor([46])\n",
      "小蜜蜂\n",
      "羽生结弦\n",
      "100\n",
      "Query:\n"
     ]
    },
    {
     "data": {
      "text/plain": [
       "'羽生结弦'"
      ]
     },
     "metadata": {},
     "output_type": "display_data"
    },
    {
     "name": "stdout",
     "output_type": "stream",
     "text": [
      "N6d-jP0r46I.jpg\n",
      "NbaTh_gM0WI.jpg\n",
      "WXJTpCC_KpA.jpg\n",
      "['photos/N6d-jP0r46I.jpg', 'photos/NbaTh_gM0WI.jpg', 'photos/WXJTpCC_KpA.jpg']\n",
      "\n",
      "file_request <Response [200]>\n"
     ]
    },
    {
     "name": "stderr",
     "output_type": "stream",
     "text": [
      "ftfy or spacy is not installed using BERT BasicTokenizer instead of ftfy.\n"
     ]
    },
    {
     "name": "stdout",
     "output_type": "stream",
     "text": [
      "tensor([1])\n",
      "苹果\n",
      "sun\n",
      "100\n",
      "Query:\n"
     ]
    },
    {
     "data": {
      "text/plain": [
       "'sun'"
      ]
     },
     "metadata": {},
     "output_type": "display_data"
    },
    {
     "name": "stdout",
     "output_type": "stream",
     "text": [
      "xp-tY7kTiaA.jpg\n",
      "uvBJ07_EQmw.jpg\n",
      "O0xLqkI9i-E.jpg\n",
      "['photos/xp-tY7kTiaA.jpg', 'photos/uvBJ07_EQmw.jpg', 'photos/O0xLqkI9i-E.jpg']\n",
      "苹果\n",
      "100\n",
      "Query:\n"
     ]
    },
    {
     "data": {
      "text/plain": [
       "'苹果'"
      ]
     },
     "metadata": {},
     "output_type": "display_data"
    },
    {
     "name": "stdout",
     "output_type": "stream",
     "text": [
      "kjEBjje4-dE.jpg\n",
      "dTk4P3F3o_M.jpg\n",
      "FZU6emgWeaQ.jpg\n",
      "['photos/kjEBjje4-dE.jpg', 'photos/dTk4P3F3o_M.jpg', 'photos/FZU6emgWeaQ.jpg']\n",
      "\n",
      "file_request <Response [200]>\n",
      "girl\n",
      "100\n",
      "Query:\n"
     ]
    },
    {
     "data": {
      "text/plain": [
       "'girl'"
      ]
     },
     "metadata": {},
     "output_type": "display_data"
    },
    {
     "name": "stdout",
     "output_type": "stream",
     "text": [
      "eMT_TIrG90k.jpg\n",
      "VylXOtFALIc.jpg\n",
      "p-8yfcyGn2o.jpg\n",
      "['photos/eMT_TIrG90k.jpg', 'photos/VylXOtFALIc.jpg', 'photos/p-8yfcyGn2o.jpg']\n"
     ]
    },
    {
     "name": "stderr",
     "output_type": "stream",
     "text": [
      "ftfy or spacy is not installed using BERT BasicTokenizer instead of ftfy.\n"
     ]
    },
    {
     "name": "stdout",
     "output_type": "stream",
     "text": [
      "tensor([60])\n",
      "野菊花\n",
      "human\n",
      "100\n",
      "Query:\n"
     ]
    },
    {
     "data": {
      "text/plain": [
       "'human'"
      ]
     },
     "metadata": {},
     "output_type": "display_data"
    },
    {
     "name": "stdout",
     "output_type": "stream",
     "text": [
      "Y0QG7GBHBLE.jpg\n",
      "nM5uErhbiGw.jpg\n",
      "8LncJQs3dRw.jpg\n",
      "['photos/Y0QG7GBHBLE.jpg', 'photos/nM5uErhbiGw.jpg', 'photos/8LncJQs3dRw.jpg']\n",
      "human\n",
      "100\n",
      "Query:\n"
     ]
    },
    {
     "data": {
      "text/plain": [
       "'human'"
      ]
     },
     "metadata": {},
     "output_type": "display_data"
    },
    {
     "name": "stdout",
     "output_type": "stream",
     "text": [
      "Y0QG7GBHBLE.jpg\n",
      "nM5uErhbiGw.jpg\n",
      "8LncJQs3dRw.jpg\n",
      "['photos/Y0QG7GBHBLE.jpg', 'photos/nM5uErhbiGw.jpg', 'photos/8LncJQs3dRw.jpg']\n",
      "\n",
      "file_request <Response [200]>\n"
     ]
    },
    {
     "name": "stderr",
     "output_type": "stream",
     "text": [
      "ftfy or spacy is not installed using BERT BasicTokenizer instead of ftfy.\n"
     ]
    },
    {
     "name": "stdout",
     "output_type": "stream",
     "text": [
      "tensor([103])\n",
      "新兴\n",
      "猩猩\n",
      "100\n",
      "Query:\n"
     ]
    },
    {
     "data": {
      "text/plain": [
       "'猩猩'"
      ]
     },
     "metadata": {},
     "output_type": "display_data"
    },
    {
     "name": "stdout",
     "output_type": "stream",
     "text": [
      "mVPpRr9K0jk.jpg\n",
      "IRrQ0Ypp1yk.jpg\n",
      "MeZqh3NdI9Q.jpg\n",
      "['photos/mVPpRr9K0jk.jpg', 'photos/IRrQ0Ypp1yk.jpg', 'photos/MeZqh3NdI9Q.jpg']\n",
      "\n",
      "file_request <Response [200]>\n"
     ]
    },
    {
     "name": "stderr",
     "output_type": "stream",
     "text": [
      "ftfy or spacy is not installed using BERT BasicTokenizer instead of ftfy.\n"
     ]
    },
    {
     "name": "stdout",
     "output_type": "stream",
     "text": [
      "tensor([100])\n",
      "中学\n"
     ]
    }
   ],
   "source": [
    "import telebot\n",
    "import os\n",
    "import requests\n",
    "import ImageClassification\n",
    "import multilingual\n",
    "\n",
    "TG_TOKEN = '5453719211:AAGtSJ_oRKf74KfZuKez8RfzltWVJw6J0IA' # Токен полученный от @BotFather\n",
    "\n",
    "if __name__ == '__main__':\n",
    "    bot = telebot.TeleBot(TG_TOKEN)\n",
    "    #bot.remove_webhook()\n",
    "\n",
    "    @bot.message_handler(commands=['start'])\n",
    "    def command_handler(message):\n",
    "        #bot.send_chat_action(message.chat.id, 'typing')\n",
    "        message_text = \"Hello!\" \n",
    "        keyboard = telebot.types.ReplyKeyboardMarkup(resize_keyboard=True,\n",
    "                                                     one_time_keyboard = True)\n",
    "        button1 = telebot.types.KeyboardButton('/input text')\n",
    "        button2 = telebot.types.KeyboardButton('/input picture')\n",
    "        bot.send_message(\n",
    "            message.chat.id,\n",
    "            text = message_text\n",
    "            )\n",
    "    \n",
    "    @bot.message_handler(content_types = ['text'])\n",
    "    def text_handler(message):\n",
    "        print(message.text)\n",
    "        message_text_1 = \"What do you need?\"\n",
    "        message_text_2 = \"Bye！\"\n",
    "        message_text_3 = \"Please choose'/input text'or'/input picture'\"\n",
    "    \n",
    "        if message.text == \"/input text\" or \"/input picture\":\n",
    "            textt=1\n",
    "        if message.text == \"Help\":\n",
    "            bot.send_message(\n",
    "            message.chat.id,\n",
    "            text = message_text_1,\n",
    "            )\n",
    "        if message.text == \"Bye\":\n",
    "            bot.send_message(\n",
    "            message.chat.id,\n",
    "            text = message_text_2,\n",
    "            )\n",
    "        if message.text == \"I need to transform\":\n",
    "            bot.send_message(\n",
    "            message.chat.id,\n",
    "            text = message_text_3,\n",
    "            )\n",
    "        if message.text != \"/input text\" and message.text != \"/input picture\" and message.text != \"Help\" and message.text != \"Bye\" and message.text != \"I need to transform\":\n",
    "            print(100)\n",
    "            a = message.text\n",
    "            path = multilingual.search(a)\n",
    "            print(path) # res\n",
    "            for i in range(len(path)):\n",
    "                file= open(path[i], 'rb' ) \n",
    "                bot.send_photo(\n",
    "                    message.chat.id,\n",
    "                    file,            \n",
    "                    )\n",
    "            bot.send_message(\n",
    "                    message.chat.id,\n",
    "                    text = 'text to picture successfully!',\n",
    "                    )\n",
    "\n",
    "    @bot.message_handler(content_types = ['photo'])\n",
    "    def doc_handler(message):\n",
    "        #print('图片转文本')\n",
    "        #message_text_1 =\"图片转文本\"\n",
    "        #bot.send_message(message.chat.id,message_text_1)\n",
    "        file_name =  message.json['photo'][-1]['file_unique_id']+'.jpg'\n",
    "        file_id = message.json['photo'][-1]['file_id']\n",
    "        file_info = bot.get_file(file_id)\n",
    "        file_request = requests.get('https://api.telegram.org/file/bot{0}/{1}'.format(TG_TOKEN, file_info.file_path))\n",
    "        print('\\nfile_request', file_request)\n",
    "        if str(file_request) == '<Response [200]>':\n",
    "            downloaded_file = bot.download_file(file_info.file_path)\n",
    "            #print(downloaded_file)\n",
    "        else:\n",
    "            downloaded_file = None\n",
    "        #print('downloaded_file', downloaded_file)\n",
    "        if downloaded_file is not None:\n",
    "            with open('test.png', 'wb') as f:\n",
    "                f.write(downloaded_file)\n",
    "                res=ImageClassification.function()#downloaded_file)\n",
    "                print(res)\n",
    "                bot.send_message(message.chat.id,str(res))\n",
    "                bot.send_message(\n",
    "                    message.chat.id,\n",
    "                    text = 'picture to text successfully!',\n",
    "                    )\n",
    "                 \n",
    "    #bot.polling(none_stop=True) \n",
    "    bot.polling(none_stop=True, interval=0)"
   ]
  },
  {
   "cell_type": "code",
   "execution_count": 20,
   "id": "a2da41b6",
   "metadata": {
    "collapsed": true
   },
   "outputs": [
    {
     "name": "stdout",
     "output_type": "stream",
     "text": [
      "Defaulting to user installation because normal site-packages is not writeable\n",
      "Requirement already satisfied: pyTelegramBotAPI in c:\\users\\21741\\appdata\\roaming\\python\\python39\\site-packages (4.7.0)\n",
      "Requirement already satisfied: requests in d:\\anaconda\\lib\\site-packages (from pyTelegramBotAPI) (2.27.1)\n",
      "Requirement already satisfied: idna<4,>=2.5 in d:\\anaconda\\lib\\site-packages (from requests->pyTelegramBotAPI) (3.3)\n",
      "Requirement already satisfied: urllib3<1.27,>=1.21.1 in d:\\anaconda\\lib\\site-packages (from requests->pyTelegramBotAPI) (1.26.9)\n",
      "Requirement already satisfied: charset-normalizer~=2.0.0 in d:\\anaconda\\lib\\site-packages (from requests->pyTelegramBotAPI) (2.0.4)\n",
      "Requirement already satisfied: certifi>=2017.4.17 in d:\\anaconda\\lib\\site-packages (from requests->pyTelegramBotAPI) (2021.10.8)\n",
      "Note: you may need to restart the kernel to use updated packages.\n"
     ]
    }
   ],
   "source": [
    "pip install pyTelegramBotAPI "
   ]
  },
  {
   "cell_type": "code",
   "execution_count": 20,
   "id": "1af38468",
   "metadata": {
    "collapsed": true
   },
   "outputs": [
    {
     "name": "stdout",
     "output_type": "stream",
     "text": [
      "Defaulting to user installation because normal site-packages is not writeable\n",
      "Requirement already satisfied: pyTelegramBotAPI in c:\\users\\21741\\appdata\\roaming\\python\\python39\\site-packages (4.7.0)\n",
      "Requirement already satisfied: requests in d:\\anaconda\\lib\\site-packages (from pyTelegramBotAPI) (2.27.1)\n",
      "Requirement already satisfied: idna<4,>=2.5 in d:\\anaconda\\lib\\site-packages (from requests->pyTelegramBotAPI) (3.3)\n",
      "Requirement already satisfied: urllib3<1.27,>=1.21.1 in d:\\anaconda\\lib\\site-packages (from requests->pyTelegramBotAPI) (1.26.9)\n",
      "Requirement already satisfied: charset-normalizer~=2.0.0 in d:\\anaconda\\lib\\site-packages (from requests->pyTelegramBotAPI) (2.0.4)\n",
      "Requirement already satisfied: certifi>=2017.4.17 in d:\\anaconda\\lib\\site-packages (from requests->pyTelegramBotAPI) (2021.10.8)\n",
      "Note: you may need to restart the kernel to use updated packages.\n"
     ]
    }
   ],
   "source": [
    "pip install pyTelegramBotAPI "
   ]
  },
  {
   "cell_type": "code",
   "execution_count": 12,
   "id": "a26d5de6",
   "metadata": {},
   "outputs": [
    {
     "name": "stdout",
     "output_type": "stream",
     "text": [
      "Package                       Version\n",
      "----------------------------- --------------------\n",
      "aiohttp                       3.8.1\n",
      "aiosignal                     1.2.0\n",
      "alabaster                     0.7.12\n",
      "anaconda-client               1.9.0\n",
      "anaconda-navigator            2.1.4\n",
      "anaconda-project              0.10.2\n",
      "anyio                         3.5.0\n",
      "appdirs                       1.4.4\n",
      "APScheduler                   3.6.3\n",
      "argon2-cffi                   21.3.0\n",
      "argon2-cffi-bindings          21.2.0\n",
      "arrow                         1.2.2\n",
      "astroid                       2.6.6\n",
      "astropy                       5.0.4\n",
      "asttokens                     2.0.5\n",
      "async-timeout                 4.0.1\n",
      "atomicwrites                  1.4.0\n",
      "attrs                         21.4.0\n",
      "Automat                       20.2.0\n",
      "autopep8                      1.6.0\n",
      "Babel                         2.9.1\n",
      "backcall                      0.2.0\n",
      "backports.functools-lru-cache 1.6.4\n",
      "backports.tempfile            1.0\n",
      "backports.weakref             1.0.post1\n",
      "bcrypt                        3.2.0\n",
      "beautifulsoup4                4.11.1\n",
      "binaryornot                   0.4.4\n",
      "bitarray                      2.4.1\n",
      "bkcharts                      0.2\n",
      "black                         19.10b0\n",
      "bleach                        4.1.0\n",
      "bokeh                         2.4.2\n",
      "boto3                         1.21.32\n",
      "botocore                      1.24.32\n",
      "Bottleneck                    1.3.4\n",
      "brotlipy                      0.7.0\n",
      "cachetools                    4.2.2\n",
      "certifi                       2021.10.8\n",
      "cffi                          1.15.0\n",
      "chardet                       4.0.0\n",
      "charset-normalizer            2.0.4\n",
      "click                         8.0.4\n",
      "cloudpickle                   2.0.0\n",
      "clyent                        1.2.2\n",
      "colorama                      0.4.4\n",
      "colorcet                      2.0.6\n",
      "comtypes                      1.1.10\n",
      "conda                         4.12.0\n",
      "conda-build                   3.21.8\n",
      "conda-content-trust           0+unknown\n",
      "conda-pack                    0.6.0\n",
      "conda-package-handling        1.8.1\n",
      "conda-repo-cli                1.0.4\n",
      "conda-token                   0.3.0\n",
      "conda-verify                  3.4.2\n",
      "constantly                    15.1.0\n",
      "cookiecutter                  1.7.3\n",
      "cryptography                  3.4.8\n",
      "cssselect                     1.1.0\n",
      "cycler                        0.11.0\n",
      "Cython                        0.29.28\n",
      "cytoolz                       0.11.0\n",
      "daal4py                       2021.5.0\n",
      "dask                          2022.2.1\n",
      "datashader                    0.13.0\n",
      "datashape                     0.5.4\n",
      "debugpy                       1.5.1\n",
      "decorator                     5.1.1\n",
      "defusedxml                    0.7.1\n",
      "diff-match-patch              20200713\n",
      "distributed                   2022.2.1\n",
      "docutils                      0.17.1\n",
      "entrypoints                   0.4\n",
      "et-xmlfile                    1.1.0\n",
      "executing                     0.8.3\n",
      "fastjsonschema                2.15.1\n",
      "filelock                      3.6.0\n",
      "flake8                        3.9.2\n",
      "Flask                         1.1.2\n",
      "fonttools                     4.25.0\n",
      "frozenlist                    1.2.0\n",
      "fsspec                        2022.2.0\n",
      "future                        0.18.2\n",
      "gensim                        4.1.2\n",
      "glob2                         0.7\n",
      "google-api-core               1.25.1\n",
      "google-auth                   1.33.0\n",
      "google-cloud-core             1.7.1\n",
      "google-cloud-storage          1.31.0\n",
      "google-crc32c                 1.1.2\n",
      "google-resumable-media        1.3.1\n",
      "googleapis-common-protos      1.53.0\n",
      "greenlet                      1.1.1\n",
      "grpcio                        1.42.0\n",
      "h5py                          3.6.0\n",
      "HeapDict                      1.0.1\n",
      "holoviews                     1.14.8\n",
      "huggingface-hub               0.9.1\n",
      "hvplot                        0.7.3\n",
      "hyperlink                     21.0.0\n",
      "idna                          3.3\n",
      "imagecodecs                   2021.8.26\n",
      "imageio                       2.9.0\n",
      "imagesize                     1.3.0\n",
      "importlib-metadata            4.11.3\n",
      "incremental                   21.3.0\n",
      "inflection                    0.5.1\n",
      "iniconfig                     1.1.1\n",
      "intake                        0.6.5\n",
      "intervaltree                  3.1.0\n",
      "ipykernel                     6.9.1\n",
      "ipython                       8.2.0\n",
      "ipython-genutils              0.2.0\n",
      "ipywidgets                    7.6.5\n",
      "isort                         5.9.3\n",
      "itemadapter                   0.3.0\n",
      "itemloaders                   1.0.4\n",
      "itsdangerous                  2.0.1\n",
      "jdcal                         1.4.1\n",
      "jedi                          0.18.1\n",
      "Jinja2                        2.11.3\n",
      "jinja2-time                   0.2.0\n",
      "jmespath                      0.10.0\n",
      "joblib                        1.1.0\n",
      "json5                         0.9.6\n",
      "jsonschema                    4.4.0\n",
      "jupyter                       1.0.0\n",
      "jupyter-client                6.1.12\n",
      "jupyter-console               6.4.0\n",
      "jupyter-core                  4.9.2\n",
      "jupyter-server                1.13.5\n",
      "jupyterlab                    3.3.2\n",
      "jupyterlab-pygments           0.1.2\n",
      "jupyterlab-server             2.10.3\n",
      "jupyterlab-widgets            1.0.0\n",
      "keyring                       23.4.0\n",
      "kiwisolver                    1.3.2\n",
      "lazy-object-proxy             1.6.0\n",
      "libarchive-c                  2.9\n",
      "llvmlite                      0.38.0\n",
      "locket                        0.2.1\n",
      "lxml                          4.8.0\n",
      "Markdown                      3.3.4\n",
      "MarkupSafe                    2.0.1\n",
      "matplotlib                    3.5.1\n",
      "matplotlib-inline             0.1.2\n",
      "mccabe                        0.6.1\n",
      "menuinst                      1.4.18\n",
      "mistune                       0.8.4\n",
      "mkl-fft                       1.3.1\n",
      "mkl-random                    1.2.2\n",
      "mkl-service                   2.4.0\n",
      "mock                          4.0.3\n",
      "mpmath                        1.2.1\n",
      "msgpack                       1.0.2\n",
      "multidict                     5.1.0\n",
      "multipledispatch              0.6.0\n",
      "munkres                       1.1.4\n",
      "mypy-extensions               0.4.3\n",
      "navigator-updater             0.2.1\n",
      "nbclassic                     0.3.5\n",
      "nbclient                      0.5.13\n",
      "nbconvert                     6.4.4\n",
      "nbformat                      5.3.0\n",
      "nest-asyncio                  1.5.5\n",
      "networkx                      2.7.1\n",
      "nltk                          3.7\n",
      "nose                          1.3.7\n",
      "notebook                      6.4.8\n",
      "numba                         0.55.1\n",
      "numexpr                       2.8.1\n",
      "numpy                         1.21.5\n",
      "numpydoc                      1.2\n",
      "olefile                       0.46\n",
      "openpyxl                      3.0.9\n",
      "packaging                     21.3\n",
      "pandas                        1.4.2\n",
      "pandocfilters                 1.5.0\n",
      "panel                         0.13.0\n",
      "param                         1.12.0\n",
      "paramiko                      2.8.1\n",
      "parsel                        1.6.0\n",
      "parso                         0.8.3\n",
      "partd                         1.2.0\n",
      "pathspec                      0.7.0\n",
      "patsy                         0.5.2\n",
      "pep8                          1.7.1\n",
      "pexpect                       4.8.0\n",
      "pickleshare                   0.7.5\n",
      "Pillow                        9.0.1\n",
      "pip                           21.2.4\n",
      "pkginfo                       1.8.2\n",
      "plotly                        5.6.0\n",
      "pluggy                        1.0.0\n",
      "poyo                          0.5.0\n",
      "prometheus-client             0.13.1\n",
      "prompt-toolkit                3.0.20\n",
      "Protego                       0.1.16\n",
      "protobuf                      3.19.1\n",
      "psutil                        5.8.0\n",
      "ptyprocess                    0.7.0\n",
      "pure-eval                     0.2.2\n",
      "py                            1.11.0\n",
      "pyasn1                        0.4.8\n",
      "pyasn1-modules                0.2.8\n",
      "pycodestyle                   2.7.0\n",
      "pycosat                       0.6.3\n",
      "pycparser                     2.21\n",
      "pyct                          0.4.6\n",
      "pycurl                        7.44.1\n",
      "PyDispatcher                  2.0.5\n",
      "pydocstyle                    6.1.1\n",
      "pyerfa                        2.0.0\n",
      "pyflakes                      2.3.1\n",
      "Pygments                      2.11.2\n",
      "PyHamcrest                    2.0.2\n",
      "PyJWT                         2.1.0\n",
      "pylint                        2.9.6\n",
      "pyls-spyder                   0.4.0\n",
      "PyNaCl                        1.4.0\n",
      "pyodbc                        4.0.32\n",
      "pyOpenSSL                     21.0.0\n",
      "pyparsing                     3.0.4\n",
      "pyreadline                    2.1\n",
      "pyrsistent                    0.18.0\n",
      "PySocks                       1.7.1\n",
      "pyTelegramBotAPI              4.7.0\n",
      "pytest                        7.1.1\n",
      "python-dateutil               2.8.2\n",
      "python-lsp-black              1.0.0\n",
      "python-lsp-jsonrpc            1.0.0\n",
      "python-lsp-server             1.2.4\n",
      "python-slugify                5.0.2\n",
      "python-snappy                 0.6.0\n",
      "python-telegram-bot           13.14\n",
      "pytz                          2021.3\n",
      "pytz-deprecation-shim         0.1.0.post0\n",
      "pyviz-comms                   2.0.2\n",
      "PyWavelets                    1.3.0\n",
      "pywin32                       302\n",
      "pywin32-ctypes                0.2.0\n",
      "pywinpty                      2.0.2\n",
      "PyYAML                        6.0\n",
      "pyzmq                         22.3.0\n",
      "QDarkStyle                    3.0.2\n",
      "qstylizer                     0.1.10\n",
      "QtAwesome                     1.0.3\n",
      "qtconsole                     5.3.0\n",
      "QtPy                          2.0.1\n",
      "queuelib                      1.5.0\n",
      "regex                         2022.3.15\n",
      "requests                      2.27.1\n",
      "requests-file                 1.5.1\n",
      "rope                          0.22.0\n",
      "rsa                           4.7.2\n",
      "Rtree                         0.9.7\n",
      "ruamel-yaml-conda             0.15.100\n",
      "s3transfer                    0.5.0\n",
      "scikit-image                  0.19.2\n",
      "scikit-learn                  1.0.2\n",
      "scikit-learn-intelex          2021.20220215.102710\n",
      "scipy                         1.7.3\n",
      "Scrapy                        2.6.1\n",
      "seaborn                       0.11.2\n",
      "Send2Trash                    1.8.0\n",
      "sentence-transformers         2.2.2\n",
      "sentencepiece                 0.1.97\n",
      "service-identity              18.1.0\n",
      "setuptools                    61.2.0\n",
      "sip                           4.19.13\n",
      "six                           1.16.0\n",
      "smart-open                    5.1.0\n",
      "sniffio                       1.2.0\n",
      "snowballstemmer               2.2.0\n",
      "sortedcollections             2.1.0\n",
      "sortedcontainers              2.4.0\n",
      "soupsieve                     2.3.1\n",
      "Sphinx                        4.4.0\n",
      "sphinxcontrib-applehelp       1.0.2\n",
      "sphinxcontrib-devhelp         1.0.2\n",
      "sphinxcontrib-htmlhelp        2.0.0\n",
      "sphinxcontrib-jsmath          1.0.1\n",
      "sphinxcontrib-qthelp          1.0.3\n",
      "sphinxcontrib-serializinghtml 1.1.5\n",
      "spyder                        5.1.5\n",
      "spyder-kernels                2.1.3\n",
      "SQLAlchemy                    1.4.32\n",
      "stack-data                    0.2.0\n",
      "statsmodels                   0.13.2\n",
      "sympy                         1.10.1\n",
      "tables                        3.6.1\n",
      "tabulate                      0.8.9\n",
      "TBB                           0.2\n",
      "tblib                         1.7.0\n",
      "telebot                       0.0.4\n",
      "tenacity                      8.0.1\n",
      "terminado                     0.13.1\n",
      "testpath                      0.5.0\n",
      "text-unidecode                1.3\n",
      "textdistance                  4.2.1\n",
      "threadpoolctl                 2.2.0\n",
      "three-merge                   0.1.1\n",
      "tifffile                      2021.7.2\n",
      "tinycss                       0.4\n",
      "tldextract                    3.2.0\n",
      "tokenizers                    0.12.1\n",
      "toml                          0.10.2\n",
      "tomli                         1.2.2\n",
      "toolz                         0.11.2\n",
      "torch                         1.12.1\n",
      "torchvision                   0.13.1\n",
      "tornado                       6.1\n",
      "tqdm                          4.64.0\n",
      "traitlets                     5.1.1\n",
      "transformers                  4.21.3\n",
      "Twisted                       22.2.0\n",
      "twisted-iocpsupport           1.0.2\n",
      "typed-ast                     1.4.3\n",
      "typing_extensions             4.1.1\n",
      "tzdata                        2022.2\n",
      "tzlocal                       4.2\n",
      "ujson                         5.1.0\n",
      "Unidecode                     1.2.0\n",
      "urllib3                       1.26.9\n",
      "w3lib                         1.21.0\n",
      "watchdog                      2.1.6\n",
      "wcwidth                       0.2.5\n",
      "webencodings                  0.5.1\n",
      "websocket-client              0.58.0\n",
      "Werkzeug                      2.0.3\n",
      "wheel                         0.37.1\n",
      "widgetsnbextension            3.5.2\n",
      "win-inet-pton                 1.1.0\n",
      "win-unicode-console           0.5\n",
      "wincertstore                  0.2\n",
      "wrapt                         1.12.1\n",
      "xarray                        0.20.1\n",
      "xlrd                          2.0.1\n",
      "XlsxWriter                    3.0.3\n",
      "xlwings                       0.24.9\n",
      "yapf                          0.31.0\n",
      "yarl                          1.6.3\n",
      "zict                          2.0.0\n",
      "zipp                          3.7.0\n",
      "zope.interface                5.4.0\n",
      "Note: you may need to restart the kernel to use updated packages.\n"
     ]
    }
   ],
   "source": [
    "pip list"
   ]
  },
  {
   "cell_type": "code",
   "execution_count": 13,
   "id": "19063600",
   "metadata": {
    "scrolled": true
   },
   "outputs": [
    {
     "name": "stdout",
     "output_type": "stream",
     "text": [
      "Defaulting to user installation because normal site-packages is not writeableNote: you may need to restart the kernel to use updated packages.\n",
      "Requirement already satisfied: sentence_transformers in c:\\users\\21741\\appdata\\roaming\\python\\python39\\site-packages (2.2.2)\n",
      "Requirement already satisfied: sentencepiece in c:\\users\\21741\\appdata\\roaming\\python\\python39\\site-packages (from sentence_transformers) (0.1.97)\n",
      "Requirement already satisfied: torch>=1.6.0 in c:\\users\\21741\\appdata\\roaming\\python\\python39\\site-packages (from sentence_transformers) (1.12.1)\n",
      "Requirement already satisfied: transformers<5.0.0,>=4.6.0 in c:\\users\\21741\\appdata\\roaming\\python\\python39\\site-packages (from sentence_transformers) (4.21.3)\n",
      "Requirement already satisfied: scipy in d:\\anaconda\\lib\\site-packages (from sentence_transformers) (1.7.3)\n",
      "Requirement already satisfied: huggingface-hub>=0.4.0 in c:\\users\\21741\\appdata\\roaming\\python\\python39\\site-packages (from sentence_transformers) (0.9.1)\n",
      "Requirement already satisfied: numpy in d:\\anaconda\\lib\\site-packages (from sentence_transformers) (1.21.5)\n",
      "Requirement already satisfied: nltk in d:\\anaconda\\lib\\site-packages (from sentence_transformers) (3.7)\n",
      "Requirement already satisfied: torchvision in c:\\users\\21741\\appdata\\roaming\\python\\python39\\site-packages (from sentence_transformers) (0.13.1)\n",
      "Requirement already satisfied: scikit-learn in d:\\anaconda\\lib\\site-packages (from sentence_transformers) (1.0.2)\n",
      "Requirement already satisfied: tqdm in d:\\anaconda\\lib\\site-packages (from sentence_transformers) (4.64.0)\n",
      "Requirement already satisfied: packaging>=20.9 in d:\\anaconda\\lib\\site-packages (from huggingface-hub>=0.4.0->sentence_transformers) (21.3)\n",
      "Requirement already satisfied: filelock in d:\\anaconda\\lib\\site-packages (from huggingface-hub>=0.4.0->sentence_transformers) (3.6.0)\n",
      "Requirement already satisfied: pyyaml>=5.1 in d:\\anaconda\\lib\\site-packages (from huggingface-hub>=0.4.0->sentence_transformers) (6.0)\n",
      "Requirement already satisfied: requests in d:\\anaconda\\lib\\site-packages (from huggingface-hub>=0.4.0->sentence_transformers) (2.27.1)\n",
      "Requirement already satisfied: typing-extensions>=3.7.4.3 in d:\\anaconda\\lib\\site-packages (from huggingface-hub>=0.4.0->sentence_transformers) (4.1.1)\n",
      "Requirement already satisfied: pyparsing!=3.0.5,>=2.0.2 in d:\\anaconda\\lib\\site-packages (from packaging>=20.9->huggingface-hub>=0.4.0->sentence_transformers) (3.0.4)\n",
      "Requirement already satisfied: regex!=2019.12.17 in d:\\anaconda\\lib\\site-packages (from transformers<5.0.0,>=4.6.0->sentence_transformers) (2022.3.15)\n",
      "Requirement already satisfied: tokenizers!=0.11.3,<0.13,>=0.11.1 in c:\\users\\21741\\appdata\\roaming\\python\\python39\\site-packages (from transformers<5.0.0,>=4.6.0->sentence_transformers) (0.12.1)\n",
      "Requirement already satisfied: colorama in d:\\anaconda\\lib\\site-packages (from tqdm->sentence_transformers) (0.4.4)\n",
      "Requirement already satisfied: joblib in d:\\anaconda\\lib\\site-packages (from nltk->sentence_transformers) (1.1.0)\n",
      "Requirement already satisfied: click in d:\\anaconda\\lib\\site-packages (from nltk->sentence_transformers) (8.0.4)\n",
      "Requirement already satisfied: charset-normalizer~=2.0.0 in d:\\anaconda\\lib\\site-packages (from requests->huggingface-hub>=0.4.0->sentence_transformers) (2.0.4)\n",
      "Requirement already satisfied: idna<4,>=2.5 in d:\\anaconda\\lib\\site-packages (from requests->huggingface-hub>=0.4.0->sentence_transformers) (3.3)\n",
      "Requirement already satisfied: certifi>=2017.4.17 in d:\\anaconda\\lib\\site-packages (from requests->huggingface-hub>=0.4.0->sentence_transformers) (2021.10.8)\n",
      "\n",
      "Requirement already satisfied: urllib3<1.27,>=1.21.1 in d:\\anaconda\\lib\\site-packages (from requests->huggingface-hub>=0.4.0->sentence_transformers) (1.26.9)\n",
      "Requirement already satisfied: threadpoolctl>=2.0.0 in d:\\anaconda\\lib\\site-packages (from scikit-learn->sentence_transformers) (2.2.0)\n",
      "Requirement already satisfied: pillow!=8.3.*,>=5.3.0 in d:\\anaconda\\lib\\site-packages (from torchvision->sentence_transformers) (9.0.1)\n"
     ]
    }
   ],
   "source": [
    "pip install sentence_transformers"
   ]
  },
  {
   "cell_type": "code",
   "execution_count": null,
   "id": "243fe396",
   "metadata": {},
   "outputs": [],
   "source": []
  }
 ],
 "metadata": {
  "kernelspec": {
   "display_name": "Python 3 (ipykernel)",
   "language": "python",
   "name": "python3"
  },
  "language_info": {
   "codemirror_mode": {
    "name": "ipython",
    "version": 3
   },
   "file_extension": ".py",
   "mimetype": "text/x-python",
   "name": "python",
   "nbconvert_exporter": "python",
   "pygments_lexer": "ipython3",
   "version": "3.9.12"
  }
 },
 "nbformat": 4,
 "nbformat_minor": 5
}
