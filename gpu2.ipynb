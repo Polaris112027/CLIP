{
 "cells": [
  {
   "cell_type": "code",
   "execution_count": null,
   "id": "71f9cd36-014c-4e27-8fdc-38cdbaaecc25",
   "metadata": {},
   "outputs": [
    {
     "name": "stdout",
     "output_type": "stream",
     "text": [
      "Images: 24996\n",
      "\n",
      "file_request <Response [200]>\n"
     ]
    },
    {
     "name": "stderr",
     "output_type": "stream",
     "text": [
      "ftfy or spacy is not installed using BERT BasicTokenizer instead of ftfy.\n"
     ]
    },
    {
     "name": "stdout",
     "output_type": "stream",
     "text": [
      "howl polar majestic husky wolf\n",
      "\n",
      "file_request <Response [200]>\n"
     ]
    },
    {
     "name": "stderr",
     "output_type": "stream",
     "text": [
      "ftfy or spacy is not installed using BERT BasicTokenizer instead of ftfy.\n"
     ]
    },
    {
     "name": "stdout",
     "output_type": "stream",
     "text": [
      "\n",
      "file_request <Response [200]>\n"
     ]
    },
    {
     "name": "stderr",
     "output_type": "stream",
     "text": [
      "ftfy or spacy is not installed using BERT BasicTokenizer instead of ftfy.\n"
     ]
    },
    {
     "name": "stdout",
     "output_type": "stream",
     "text": [
      "employee raincoat puppy dog jacket\n",
      "\n",
      "file_request <Response [200]>\n"
     ]
    },
    {
     "name": "stderr",
     "output_type": "stream",
     "text": [
      "ftfy or spacy is not installed using BERT BasicTokenizer instead of ftfy.\n"
     ]
    },
    {
     "name": "stdout",
     "output_type": "stream",
     "text": [
      "coma sleep asleep snore flu\n",
      "canary finch parrot beak bird\n",
      "\n",
      "file_request <Response [200]>\n"
     ]
    },
    {
     "name": "stderr",
     "output_type": "stream",
     "text": [
      "ftfy or spacy is not installed using BERT BasicTokenizer instead of ftfy.\n"
     ]
    },
    {
     "name": "stdout",
     "output_type": "stream",
     "text": [
      "test cat chat fang line\n",
      "\n",
      "file_request <Response [200]>\n"
     ]
    },
    {
     "name": "stderr",
     "output_type": "stream",
     "text": [
      "ftfy or spacy is not installed using BERT BasicTokenizer instead of ftfy.\n"
     ]
    },
    {
     "name": "stdout",
     "output_type": "stream",
     "text": [
      "shun perfume whether when boy\n",
      "\n",
      "file_request <Response [200]>\n"
     ]
    },
    {
     "name": "stderr",
     "output_type": "stream",
     "text": [
      "ftfy or spacy is not installed using BERT BasicTokenizer instead of ftfy.\n"
     ]
    },
    {
     "name": "stdout",
     "output_type": "stream",
     "text": [
      "china city firework downtown prefecture\n",
      "\n",
      "file_request <Response [200]>\n"
     ]
    },
    {
     "name": "stderr",
     "output_type": "stream",
     "text": [
      "ftfy or spacy is not installed using BERT BasicTokenizer instead of ftfy.\n"
     ]
    },
    {
     "name": "stdout",
     "output_type": "stream",
     "text": [
      "\n",
      "file_request <Response [200]>\n"
     ]
    },
    {
     "name": "stderr",
     "output_type": "stream",
     "text": [
      "ftfy or spacy is not installed using BERT BasicTokenizer instead of ftfy.\n"
     ]
    },
    {
     "name": "stdout",
     "output_type": "stream",
     "text": [
      "china wall monastery mist fog\n",
      "film bystander affection acquaintance willingness\n"
     ]
    }
   ],
   "source": [
    "import telebot\n",
    "import os\n",
    "import requests\n",
    "import ImageClassification\n",
    "import multilingual\n",
    "\n",
    "TG_TOKEN = '5453719211:AAGtSJ_oRKf74KfZuKez8RfzltWVJw6J0IA' # Токен полученный от @BotFather\n",
    "\n",
    "if __name__ == '__main__':\n",
    "    bot = telebot.TeleBot(TG_TOKEN)\n",
    "    #bot.remove_webhook()\n",
    "\n",
    "    @bot.message_handler(commands=['start'])\n",
    "    def command_handler(message):\n",
    "        #bot.send_chat_action(message.chat.id, 'typing')\n",
    "        message_text = \"Hello!\" \n",
    "        keyboard = telebot.types.ReplyKeyboa\n",
    "        rdMarkup(resize_keyboard=True,\n",
    "                                                     one_time_keyboard = True)\n",
    "        button1 = telebot.types.KeyboardButton('/input text')\n",
    "        button2 = telebot.types.KeyboardButton('/input picture')\n",
    "        bot.send_message(\n",
    "            message.chat.id,\n",
    "            text = message_text\n",
    "            )\n",
    "    \n",
    "    @bot.message_handler(content_types = ['text'])\n",
    "    def text_handler(message):\n",
    "        print(message.text)\n",
    "        message_text_1 = \"What do you need?\"\n",
    "        message_text_2 = \"Bye！\"\n",
    "        message_text_3 = \"Please choose'/input text'or'/input picture'\"\n",
    "    \n",
    "        if message.text == \"/input text\" or \"/input picture\":\n",
    "            textt=1\n",
    "        if message.text == \"Help\":\n",
    "            bot.send_message(\n",
    "            message.chat.id,\n",
    "            text = message_text_1,\n",
    "            )\n",
    "        if message.text == \"Bye\":\n",
    "            bot.send_message(\n",
    "            message.chat.id,\n",
    "            text = message_text_2,\n",
    "            )\n",
    "        if message.text == \"I need to transform\":\n",
    "            bot.send_message(\n",
    "                \n",
    "            message.chat.id,\n",
    "            text = message_text_3,\n",
    "            )\n",
    "        if message.text != \"/input text\" and message.text != \"/input picture\" and message.text != \"Help\" and message.text != \"Bye\" and message.text != \"I need to transform\":\n",
    "            print(100)\n",
    "            a = message.text\n",
    "            path = multilingual.search(a)\n",
    "            print(path) # res\n",
    "            for i in range(len(path)):\n",
    "                file= open(path[i], 'rb' ) \n",
    "                bot.send_photo(\n",
    "                    message.chat.id,\n",
    "                    file,            \n",
    "                    )\n",
    "            bot.send_message(\n",
    "                    message.chat.id,\n",
    "                    text = 'text to picture successfully!',\n",
    "                    )\n",
    "\n",
    "    @bot.message_handler(content_types = ['photo'])\n",
    "    def doc_handler(message):\n",
    "        #print('图片转文本')\n",
    "        #message_text_1 =\"图片转文本\"\n",
    "        #bot.send_message(message.chat.id,message_text_1)\n",
    "        file_name =  message.json['photo'][-1]['file_unique_id']+'.jpg'\n",
    "        file_id = message.json['photo'][-1]['file_id']\n",
    "        file_info = bot.get_file(file_id)\n",
    "        file_request = requests.get('https://api.telegram.org/file/bot{0}/{1}'.format(TG_TOKEN, file_info.file_path))\n",
    "        print('\\nfile_request', file_request)\n",
    "        if str(file_request) == '<Response [200]>':\n",
    "            downloaded_file = bot.download_file(file_info.file_path)\n",
    "            #print(downloaded_file)\n",
    "        else:\n",
    "            downloaded_file = None\n",
    "        #print('downloaded_file', downloaded_file)\n",
    "        if downloaded_file is not None:\n",
    "            with open('test.png', 'wb') as f:\n",
    "                f.write(downloaded_file)\n",
    "                res=ImageClassification.function()#downloaded_file)\n",
    "                print(res)\n",
    "                bot.send_message(message.chat.id,str(res))\n",
    "                bot.send_message(\n",
    "                    message.chat.id,\n",
    "                    text = 'picture to text successfully!',\n",
    "                    )\n",
    "                 \n",
    "    #bot.polling(none_stop=True) \n",
    "    bot.polling(none_stop=True, interval=0)"
   ]
  },
  {
   "cell_type": "code",
   "execution_count": 1,
   "id": "09e22788-6636-4fd3-b1be-f7756b201e2e",
   "metadata": {},
   "outputs": [
    {
     "name": "stdout",
     "output_type": "stream",
     "text": [
      "Collecting package metadata (current_repodata.json): ...working... done\n",
      "Solving environment: ...working... failed with initial frozen solve. Retrying with flexible solve.\n",
      "Collecting package metadata (repodata.json): ...working... done\n",
      "Solving environment: ...working... failed with initial frozen solve. Retrying with flexible solve.\n",
      "\n",
      "Note: you may need to restart the kernel to use updated packages.\n"
     ]
    },
    {
     "name": "stderr",
     "output_type": "stream",
     "text": [
      "\n",
      "PackagesNotFoundError: The following packages are not available from current channels:\n",
      "\n",
      "  - sentence_transformers\n",
      "\n",
      "Current channels:\n",
      "\n",
      "  - https://repo.anaconda.com/pkgs/main/win-64\n",
      "  - https://repo.anaconda.com/pkgs/main/noarch\n",
      "  - https://repo.anaconda.com/pkgs/r/win-64\n",
      "  - https://repo.anaconda.com/pkgs/r/noarch\n",
      "  - https://repo.anaconda.com/pkgs/msys2/win-64\n",
      "  - https://repo.anaconda.com/pkgs/msys2/noarch\n",
      "\n",
      "To search for alternate channels that may provide the conda package you're\n",
      "looking for, navigate to\n",
      "\n",
      "    https://anaconda.org\n",
      "\n",
      "and use the search bar at the top of the page.\n",
      "\n",
      "\n"
     ]
    }
   ],
   "source": [
    "conda install sentence_transformers"
   ]
  },
  {
   "cell_type": "code",
   "execution_count": null,
   "id": "6da72d01-93fa-4eb8-9da0-ed6ab3bcfc9e",
   "metadata": {},
   "outputs": [],
   "source": []
  },
  {
   "cell_type": "code",
   "execution_count": null,
   "id": "6cf44241-fad3-4ee0-97f2-4c671cbbdde2",
   "metadata": {},
   "outputs": [],
   "source": []
  }
 ],
 "metadata": {
  "kernelspec": {
   "display_name": "gpu2",
   "language": "python",
   "name": "gpu2"
  },
  "language_info": {
   "codemirror_mode": {
    "name": "ipython",
    "version": 3
   },
   "file_extension": ".py",
   "mimetype": "text/x-python",
   "name": "python",
   "nbconvert_exporter": "python",
   "pygments_lexer": "ipython3",
   "version": "3.9.12"
  }
 },
 "nbformat": 4,
 "nbformat_minor": 5
}
